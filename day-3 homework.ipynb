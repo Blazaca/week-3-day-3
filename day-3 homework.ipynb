{
 "cells": [
  {
   "cell_type": "markdown",
   "metadata": {},
   "source": [
    "# Intro to Algorithms, Binary Search"
   ]
  },
  {
   "cell_type": "markdown",
   "metadata": {},
   "source": [
    "## Tasks Today:\n",
    " \n",
    "1) <b>In-Place Algorithms</b> <br>\n",
    " &nbsp;&nbsp;&nbsp;&nbsp; a) Syntax <br>\n",
    " &nbsp;&nbsp;&nbsp;&nbsp; a) Out of Place Algorithm <br>\n",
    " &nbsp;&nbsp;&nbsp;&nbsp; b) In-Class Exercise #1 <br>\n",
    "2) <b>Two Pointers</b> <br>\n",
    "4) <b>Sorting Algorithms</b> <br>\n",
    " &nbsp;&nbsp;&nbsp;&nbsp; a) Videos on Algorithms (Watch later) <br>\n",
    " &nbsp;&nbsp;&nbsp;&nbsp; b) Bubble Sort <br>\n",
    " &nbsp;&nbsp;&nbsp;&nbsp; c) Insertion Sort <br>\n",
    " &nbsp;&nbsp;&nbsp;&nbsp; d) Merge Sort <br>\n",
    "5) <b>Binary Search Algorithm</b> <br>\n",
    "6) <b>Exercises</b> <br>\n",
    " &nbsp;&nbsp;&nbsp;&nbsp; a) Exercise #1 - Reverse a List in Place Using an In-Place Algorithm <br>\n",
    " &nbsp;&nbsp;&nbsp;&nbsp; b) Exercise #2 - Find Distinct Words <br>\n",
    " &nbsp;&nbsp;&nbsp;&nbsp; c) Exercise #3 - Write a program to implement a Linear Search Algorithm. <br>"
   ]
  },
  {
   "cell_type": "markdown",
   "metadata": {},
   "source": [
    "## In-Place Algorithms"
   ]
  },
  {
   "cell_type": "markdown",
   "metadata": {},
   "source": [
    "#### Syntax"
   ]
  },
  {
   "cell_type": "code",
   "execution_count": 1,
   "metadata": {},
   "outputs": [
    {
     "name": "stdout",
     "output_type": "stream",
     "text": [
      "Before swap: [20, 30, 40]\n",
      "After swap: [40, 30, 20]\n"
     ]
    }
   ],
   "source": [
    "#syntax for swap\n",
    "# var[i], var[i+1] = var [i+1], var[i]\n",
    "#sometimes known as the swap algorithm... this is uaully a small part of larger sorting algos\n",
    "\n",
    "def swap(alist, x, y, z):\n",
    "    alist[x], alist[y], alist[z] = alist[z], alist[y], alist[x]\n",
    "    return alist\n",
    "\n",
    "my_list = [20,30,40]\n",
    "print(f'Before swap: {my_list}')\n",
    "\n",
    "swap(my_list, 0, 1, 2)\n",
    "print(f'After swap: {my_list}')\n"
   ]
  },
  {
   "cell_type": "markdown",
   "metadata": {},
   "source": [
    "#### Out of Place Algorithm"
   ]
  },
  {
   "cell_type": "code",
   "execution_count": 9,
   "metadata": {},
   "outputs": [
    {
     "name": "stdout",
     "output_type": "stream",
     "text": [
      "[40, 30, 20]\n",
      "['d']\n",
      "['d', 'c']\n",
      "['d', 'c', 'b']\n",
      "['d', 'c', 'b', 'a']\n"
     ]
    }
   ],
   "source": [
    "# not swapping but making an entirely new copy and reversing completely\n",
    "# takes up a new slot in memory for a new list\n",
    "my_list = [20,30,40]\n",
    "my_list_copy = my_list[::-1]\n",
    "print(my_list_copy)\n",
    "\n",
    "# Here is what is happening in the background of my_list[::-1]\n",
    "\n",
    "list_2 = ['a','b','c','d']\n",
    "length = len(list_2)\n",
    "\n",
    "sorted_l2 = []\n",
    "\n",
    "for i in range(1,len(list_2)+1):\n",
    "    sorted_l2.append(list_2[length-i])\n",
    "    print(sorted_l2)"
   ]
  },
  {
   "cell_type": "markdown",
   "metadata": {},
   "source": [
    "#### In-Class Exercise #1 <br>\n",
    "<p>Write a function that takes in four arguments (list, index1, index2, index3), and swaps those three positions in the list passed in.</p>"
   ]
  },
  {
   "cell_type": "code",
   "execution_count": 10,
   "metadata": {},
   "outputs": [
    {
     "name": "stdout",
     "output_type": "stream",
     "text": [
      "[10, 4, 3, 8, 4, 2, 6]\n",
      "[8, 4, 3, 2, 4, 10, 6]\n"
     ]
    }
   ],
   "source": [
    "l_1 = [10, 4, 3, 8, 4, 2, 6]\n",
    "\n",
    "def swapper(alist, i1, i2, i3):\n",
    "    alist[i1], alist[i2], alist[i3] = alist[i2], alist[i3], alist[i1]\n",
    "    return alist\n",
    "\n",
    "print(l_1)\n",
    "swapper(l_1, 3, 5, 0)\n",
    "print(l_1)"
   ]
  },
  {
   "cell_type": "markdown",
   "metadata": {},
   "source": [
    "## Two Pointers"
   ]
  },
  {
   "cell_type": "markdown",
   "metadata": {},
   "source": [
    "#### Syntax"
   ]
  },
  {
   "cell_type": "code",
   "execution_count": 12,
   "metadata": {},
   "outputs": [
    {
     "data": {
      "text/plain": [
       "[5, 4, 3, 2, 1]"
      ]
     },
     "execution_count": 12,
     "metadata": {},
     "output_type": "execute_result"
    }
   ],
   "source": [
    "# alist[left], alist[right] = alist[right], alist[left]\n",
    "# most of the time 2 pointers are going to be inside of a while loop if you are swapping items\n",
    "\n",
    "def twoPointers(alist):\n",
    "    # create your two pointers (beginning and end in this case)\n",
    "    left = 0\n",
    "    right = len(alist)-1\n",
    "    # start looping until there are no longer positions to swap\n",
    "    while left <= right:\n",
    "        alist[left], alist[right] = alist[right], alist[left]\n",
    "        left += 1\n",
    "        right -= 1\n",
    "    return alist\n",
    "    \n",
    "twoPointers([1,2,3,4,5])"
   ]
  },
  {
   "cell_type": "markdown",
   "metadata": {},
   "source": [
    "#### Video of Algorithms <br>\n",
    "<p>Watch the video about algorithms.</p>\n",
    "\n",
    "https://www.youtube.com/watch?v=Q9HjeFD62Uk\n",
    "\n",
    "https://www.youtube.com/watch?v=kPRA0W1kECg\n",
    "\n",
    "https://www.youtube.com/watch?v=ZZuD6iUe3Pc"
   ]
  },
  {
   "cell_type": "markdown",
   "metadata": {},
   "source": [
    "# Sorting Algorithms"
   ]
  },
  {
   "cell_type": "markdown",
   "metadata": {},
   "source": [
    "#### Bubble Sort\n",
    "\n",
    "Worst Case: O(n^2) Time - O(1) Space"
   ]
  },
  {
   "cell_type": "code",
   "execution_count": null,
   "metadata": {},
   "outputs": [],
   "source": [
    "# steps\n",
    "# iterates over a list, compare each item to the item next to it\n",
    "# if the value on the left > value on the right - swap those values\n",
    "# keep going through the list until we make a full loop with no swaps\n",
    "\n",
    "def swap(i,j, array):\n",
    "    array[i],array[j] = array[j],array[i]\n",
    "    \n",
    "def bubbleSort(array):\n",
    "    isSorted = False\n",
    "    while not isSorted:\n",
    "        isSorted = True\n",
    "        for num in range(len(array) - 1):\n",
    "            if array[num] > array[num + 1]:\n",
    "                swap(num, num + 1, array)\n",
    "                isSorted = False\n",
    "    return array\n",
    "\n",
    "bubbleSort([22,55,88,44,1,100,34,66])"
   ]
  },
  {
   "cell_type": "markdown",
   "metadata": {},
   "source": [
    "##### Insertion Sort\n",
    "\n",
    "Worst Case: O(n^2) time - O(1)space"
   ]
  },
  {
   "cell_type": "code",
   "execution_count": null,
   "metadata": {},
   "outputs": [],
   "source": [
    "# steps \n",
    "# look at the value at each index\n",
    "# compare that item to every value at the left - then move until you reach a\n",
    "# number compairson that is already in the correct order\n",
    "# do this for every value - index 1 - final index\n",
    "\n",
    "def swap(i,j, array):\n",
    "    array[i],array[j] = array[j],array[i]\n",
    "    \n",
    "def intsertionSort(array):\n",
    "    for i in range(1, len(array))\n",
    "    j = i\n",
    "    while j > 0 and array[j] < array[j-1]:\n",
    "        swap(j, j-1, array)\n",
    "        j -=1"
   ]
  },
  {
   "cell_type": "markdown",
   "metadata": {},
   "source": [
    "## Merge Sort"
   ]
  },
  {
   "cell_type": "markdown",
   "metadata": {},
   "source": [
    "#### How it Works"
   ]
  },
  {
   "cell_type": "code",
   "execution_count": 17,
   "metadata": {},
   "outputs": [
    {
     "name": "stdout",
     "output_type": "stream",
     "text": [
      "Splitting... [8, 19, 0, 15, 2, 19, 1, 8, 14, 10]\n",
      "Splitting... [8, 19, 0, 15, 2]\n",
      "Splitting... [8, 19]\n",
      "Splitting... [8]\n",
      "Merging array... [8]\n",
      "Splitting... [19]\n",
      "Merging array... [19]\n",
      "Merging array... [8, 19]\n",
      "Splitting... [0, 15, 2]\n",
      "Splitting... [0]\n",
      "Merging array... [0]\n",
      "Splitting... [15, 2]\n",
      "Splitting... [15]\n",
      "Merging array... [15]\n",
      "Splitting... [2]\n",
      "Merging array... [2]\n",
      "Merging array... [2, 15]\n",
      "Merging array... [0, 2, 15]\n",
      "Merging array... [0, 2, 8, 15, 19]\n",
      "Splitting... [19, 1, 8, 14, 10]\n",
      "Splitting... [19, 1]\n",
      "Splitting... [19]\n",
      "Merging array... [19]\n",
      "Splitting... [1]\n",
      "Merging array... [1]\n",
      "Merging array... [1, 19]\n",
      "Splitting... [8, 14, 10]\n",
      "Splitting... [8]\n",
      "Merging array... [8]\n",
      "Splitting... [14, 10]\n",
      "Splitting... [14]\n",
      "Merging array... [14]\n",
      "Splitting... [10]\n",
      "Merging array... [10]\n",
      "Merging array... [10, 14]\n",
      "Merging array... [8, 10, 14]\n",
      "Merging array... [1, 8, 10, 14, 19]\n",
      "Merging array... [0, 1, 2, 8, 8, 10, 14, 15, 19, 19]\n"
     ]
    },
    {
     "data": {
      "text/plain": [
       "[0, 1, 2, 8, 8, 10, 14, 15, 19, 19]"
      ]
     },
     "execution_count": 17,
     "metadata": {},
     "output_type": "execute_result"
    }
   ],
   "source": [
    "# Step 1: Split everything into its own group\n",
    "# Step 2: From left to right, merge 2 equal sections together\n",
    "# Step 3: While merging, place each item in the correct position within the merged group\n",
    "# Step 4: Continue steps 3-4 until one group is left\n",
    "\n",
    "# creating a random list\n",
    "from random import randint\n",
    "nums = [randint(0,20) for i in range(10)]\n",
    "\n",
    "# Merge sort below\n",
    "def mergeSort(array):\n",
    "    print('Splitting...', array)\n",
    "    \n",
    "    # Step 1: Divide the array into equal parts (as much as possible)\n",
    "    if len(array) > 1:\n",
    "        mid = len(array) // 2\n",
    "        lefthalf = array[:mid]\n",
    "        righthalf = array[mid:]\n",
    "        \n",
    "        # recursively call mergeSort to perform splits if needed\n",
    "        # merge once all splits are made\n",
    "        mergeSort(lefthalf)\n",
    "        mergeSort(righthalf)\n",
    "        \n",
    "        # index pointers for our halves\n",
    "        i = 0 # pointer for lefthalf\n",
    "        j = 0 # pointer for right half\n",
    "        k = 0 # pointer for main array (merged array)\n",
    "        \n",
    "        # Step 2: Compare left  and right half\n",
    "        while i < len(lefthalf) and j < len(righthalf):\n",
    "            if lefthalf[i] < righthalf[j]:\n",
    "                array[k] = lefthalf[i]\n",
    "                i += 1\n",
    "            else:\n",
    "                array[k] = righthalf[j]\n",
    "                j += 1\n",
    "            k += 1\n",
    "            \n",
    "        # Step 3: While merging place items into correct position\n",
    "        while i < len(lefthalf):\n",
    "            array[k] = lefthalf[i]\n",
    "            i += 1\n",
    "            k += 1\n",
    "        \n",
    "        while j < len(righthalf):\n",
    "            array[k] = righthalf[j]\n",
    "            j += 1\n",
    "            k += 1\n",
    "    \n",
    "    print('Merging array...', array)\n",
    "    return array\n",
    "\n",
    "mergeSort(nums)"
   ]
  },
  {
   "cell_type": "markdown",
   "metadata": {},
   "source": [
    "# Binary Search\n",
    "\n",
    "The Binary Search algorithm works by finding the number in the middle of a given array and comparing it to the target. Given that the array is sorted\n",
    "\n",
    "* The worst case run time for this algorithm is `O(log(n))`"
   ]
  },
  {
   "cell_type": "code",
   "execution_count": 21,
   "metadata": {},
   "outputs": [
    {
     "data": {
      "text/plain": [
       "'Congrats! You found target 1101 at index 10'"
      ]
     },
     "execution_count": 21,
     "metadata": {},
     "output_type": "execute_result"
    }
   ],
   "source": [
    "# Steps\n",
    "# Establish 2 pointers - left and right\n",
    "# find a midpoint between left/right\n",
    "# check the target value vs the midpoint\n",
    "# adjust pointers to narrow in on our target\n",
    "# continue the process until we find our target or complete searching\n",
    "\n",
    "def binarySearch(array, target):\n",
    "    # Step 1: Establish pointers\n",
    "    left = 0\n",
    "    right = len(array) - 1\n",
    "    # Step 2: Establish Mid-point\n",
    "    while left <= right:\n",
    "        mid = (left + right) // 2\n",
    "        possible_match = array[mid]\n",
    "    \n",
    "        # adjust pointers based on comparison between target and midpoint\n",
    "        \n",
    "        if target == possible_match:\n",
    "            return f'Congrats! You found target {target} at index {mid}'\n",
    "        elif target < possible_match:\n",
    "            right = mid - 1\n",
    "        else:\n",
    "            left = mid + 1\n",
    "    return f'Sorry the target of {target} does not exist here!'\n",
    "\n",
    "\n",
    "some_list = [1,2,4,5,6,7,70,80,85,90,1101,1313,14156]\n",
    "binarySearch(some_list, 1101)\n"
   ]
  },
  {
   "cell_type": "markdown",
   "metadata": {},
   "source": [
    "# Exercises"
   ]
  },
  {
   "cell_type": "markdown",
   "metadata": {},
   "source": [
    "### Exercise #1 <br>\n",
    "<p>Reverse the list below in-place using an in-place algorithm.<br>For extra credit: Reverse the strings at the same time.</p>"
   ]
  },
  {
   "cell_type": "code",
   "execution_count": 56,
   "metadata": {},
   "outputs": [
    {
     "name": "stdout",
     "output_type": "stream",
     "text": [
      "['.', 'ecnetnes', 'a', 'si', 'siht']\n"
     ]
    }
   ],
   "source": [
    "words = ['this' , 'is', 'a', 'sentence', '.']\n",
    "new_words = []\n",
    "place = 0\n",
    "for i in range(len(words),0,-1):\n",
    "    new_words.append(words[i-1])\n",
    "    new_words[place] = new_words[place][::-1]\n",
    "    place += 1\n",
    "print(new_words)\n"
   ]
  },
  {
   "cell_type": "markdown",
   "metadata": {},
   "source": [
    "### Exercise #2 <br>\n",
    "<p>Create a function that counts how many distinct words are in the string below, then outputs a dictionary with the words as the key and the value as the amount of times that word appears in the string.<br>Should output:<br>{'a': 5,<br>\n",
    " 'abstract': 1,<br>\n",
    " 'an': 3,<br>\n",
    " 'array': 2, ... etc...</p>"
   ]
  },
  {
   "cell_type": "code",
   "execution_count": 2,
   "metadata": {},
   "outputs": [
    {
     "name": "stdout",
     "output_type": "stream",
     "text": [
      "in x1\n",
      "computing x1\n",
      "a x5\n",
      "hash x4\n",
      "table x2\n",
      "map x2\n",
      "is x1\n",
      "data x2\n",
      "structure x2\n",
      "which x2\n",
      "implements x1\n",
      "an x3\n",
      "associative x1\n",
      "array x2\n",
      "abstract x1\n",
      "type x1\n",
      "that x1\n",
      "can x2\n",
      "keys x1\n",
      "to x2\n",
      "values x1\n",
      "uses x1\n",
      "function x1\n",
      "compute x1\n",
      "index x1\n",
      "into x1\n",
      "of x1\n",
      "buckets x1\n",
      "or x1\n",
      "slots x1\n",
      "from x1\n",
      "the x1\n",
      "desired x1\n",
      "value x1\n",
      "be x1\n",
      "found x1\n"
     ]
    }
   ],
   "source": [
    "# gonna use a dictionary\n",
    "# if the word doesn't exist create a new dictionary item\n",
    "# if word exists add 1 to word value\n",
    "# print dictionary\n",
    "a_text = 'In computing, a hash table hash map is a data structure which implements an associative array abstract data type, a structure that can map keys to values. A hash table uses a hash function to compute an index into an array of buckets or slots from which the desired value can be found'\n",
    "def wordCount(text):\n",
    "    word_list = text.split()\n",
    "    word_count = {}\n",
    "    for word in word_list:\n",
    "        word = word.rstrip('.,').lower()\n",
    "        if word in word_count:\n",
    "            word_count[word] += 1\n",
    "        else:\n",
    "            word_count[word] = 1\n",
    "    for word, count in word_count.items():\n",
    "        print(f'{word} x{count}')\n",
    "\n",
    "wordCount(a_text)\n",
    "\n",
    "\n",
    "\n",
    "\n",
    "\n",
    "\n"
   ]
  },
  {
   "cell_type": "markdown",
   "metadata": {},
   "source": [
    "## Exercise #3\n",
    "\n",
    "Write a program to implement a Linear Search Algorithm.\n",
    "\n",
    "#### Hint: Linear Searching will require searching a list for a given number. "
   ]
  },
  {
   "cell_type": "code",
   "execution_count": 73,
   "metadata": {},
   "outputs": [
    {
     "name": "stdout",
     "output_type": "stream",
     "text": [
      "We found 54 at index 5\n",
      "We found 12 at index 4\n",
      "We found 11 at index 0\n",
      "We found 44 at index 1\n",
      "25 not in this list!\n"
     ]
    }
   ],
   "source": [
    "# search list for number\n",
    "# if number is equal to index of list print found number\n",
    "# else move index search point plus 1\n",
    "# wash rince\n",
    "list1 = [11,44,85,96,12,54,78]\n",
    "\n",
    "def numSearch(a_list, search):\n",
    "    if search not in a_list:\n",
    "        print(f'{search} not in this list!')\n",
    "    for i in range(len(a_list)):\n",
    "        if a_list[i] == search:\n",
    "            print(f'We found {search} at index {i}')\n",
    "        \n",
    "                  \n",
    "numSearch(list1, 54)\n",
    "numSearch(list1, 12)\n",
    "numSearch(list1, 11)\n",
    "numSearch(list1, 44)\n",
    "numSearch(list1, 25)\n"
   ]
  },
  {
   "cell_type": "code",
   "execution_count": null,
   "metadata": {},
   "outputs": [],
   "source": []
  }
 ],
 "metadata": {
  "kernelspec": {
   "display_name": "Python 3 (ipykernel)",
   "language": "python",
   "name": "python3"
  },
  "language_info": {
   "codemirror_mode": {
    "name": "ipython",
    "version": 3
   },
   "file_extension": ".py",
   "mimetype": "text/x-python",
   "name": "python",
   "nbconvert_exporter": "python",
   "pygments_lexer": "ipython3",
   "version": "3.8.8"
  }
 },
 "nbformat": 4,
 "nbformat_minor": 2
}
